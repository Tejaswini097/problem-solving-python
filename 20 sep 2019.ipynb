{
 "cells": [
  {
   "cell_type": "markdown",
   "metadata": {},
   "source": [
    " # Python Functions:\n",
    "## Introduction to functions\n",
    "### inbuilt functions\n",
    "      print\n",
    "      input\n",
    "       chr\n",
    "        ord\n",
    "        str\n",
    "        int\n",
    "        bin\n",
    "        min\n",
    "       max\n",
    "        type\n",
    "        range\n",
    "### Built-in Functions\n",
    "    "
   ]
  },
  {
   "cell_type": "code",
   "execution_count": 5,
   "metadata": {},
   "outputs": [
    {
     "name": "stdout",
     "output_type": "stream",
     "text": [
      "a\n",
      "97\n",
      "0b111\n",
      "2\n",
      "3\n",
      "4\n",
      "t\n",
      "y\n",
      "<class 'str'>\n"
     ]
    }
   ],
   "source": [
    "print(chr(97))\n",
    "print(ord('a'))\n",
    "print(bin(7))\n",
    "print(min('23'))\n",
    "print(min('34'))\n",
    "print(max('1234'))\n",
    "print(max('rft'))\n",
    "print(max('r,t,y'))\n",
    "name='hii'\n",
    "print(type(name))"
   ]
  },
  {
   "cell_type": "code",
   "execution_count": 8,
   "metadata": {},
   "outputs": [
    {
     "name": "stdout",
     "output_type": "stream",
     "text": [
      "enter a value34\n",
      "enter b value456\n",
      "<class 'int'>\n"
     ]
    }
   ],
   "source": [
    "a=input(\"enter a value\")\n",
    "b= input(\"enter b value\")\n",
    "print(type(int(min(a,b))))"
   ]
  },
  {
   "cell_type": "code",
   "execution_count": 14,
   "metadata": {},
   "outputs": [
    {
     "name": "stdout",
     "output_type": "stream",
     "text": [
      "159"
     ]
    }
   ],
   "source": [
    "for i in range(1,10,4):\n",
    "   print(i,end=\"\")\n"
   ]
  },
  {
   "cell_type": "code",
   "execution_count": 15,
   "metadata": {},
   "outputs": [
    {
     "name": "stdout",
     "output_type": "stream",
     "text": [
      "1\n",
      "6\n",
      "11\n",
      "16\n",
      "21\n"
     ]
    }
   ],
   "source": [
    "for i in range(1,23,5):\n",
    "    print(i,end=\"\\n\")"
   ]
  },
  {
   "cell_type": "markdown",
   "metadata": {},
   "source": [
    "## user defined functions"
   ]
  },
  {
   "cell_type": "markdown",
   "metadata": {},
   "source": [
    "### without arguments & without return values"
   ]
  },
  {
   "cell_type": "markdown",
   "metadata": {},
   "source": [
    "* def function_name(argument):\n",
    "  * statements\n",
    "* body of the function"
   ]
  },
  {
   "cell_type": "code",
   "execution_count": 23,
   "metadata": {},
   "outputs": [
    {
     "name": "stdout",
     "output_type": "stream",
     "text": [
      "30\n"
     ]
    }
   ],
   "source": [
    "def add():\n",
    "    a=10\n",
    "    b=20\n",
    "    print(a+b)\n",
    "add()    "
   ]
  },
  {
   "cell_type": "markdown",
   "metadata": {},
   "source": [
    "### without arguments and with return value"
   ]
  },
  {
   "cell_type": "code",
   "execution_count": 22,
   "metadata": {},
   "outputs": [
    {
     "data": {
      "text/plain": [
       "102"
      ]
     },
     "execution_count": 22,
     "metadata": {},
     "output_type": "execute_result"
    }
   ],
   "source": [
    "def mul():\n",
    "    a=3\n",
    "    b=34\n",
    "    return(a*b)\n",
    "mul()"
   ]
  },
  {
   "cell_type": "markdown",
   "metadata": {},
   "source": [
    "### with arguments & without return value"
   ]
  },
  {
   "cell_type": "code",
   "execution_count": 32,
   "metadata": {},
   "outputs": [
    {
     "name": "stdout",
     "output_type": "stream",
     "text": [
      "0.5111111111111111\n"
     ]
    }
   ],
   "source": [
    "def div(a,b):\n",
    "    print((a/b))\n",
    "div(23,45)"
   ]
  },
  {
   "cell_type": "code",
   "execution_count": 37,
   "metadata": {},
   "outputs": [
    {
     "name": "stdout",
     "output_type": "stream",
     "text": [
      "23\n",
      "34\n",
      "57\n"
     ]
    }
   ],
   "source": [
    "def add(a,b):\n",
    "    print(a+b)\n",
    "add((int(input())),int(input()))\n"
   ]
  },
  {
   "cell_type": "markdown",
   "metadata": {},
   "source": [
    "### with arguments & with return value"
   ]
  },
  {
   "cell_type": "code",
   "execution_count": 41,
   "metadata": {},
   "outputs": [
    {
     "data": {
      "text/plain": [
       "112"
      ]
     },
     "execution_count": 41,
     "metadata": {},
     "output_type": "execute_result"
    }
   ],
   "source": [
    "def mul(a,b):\n",
    "    return(int(a*b))\n",
    "mul(56,2)\n",
    "    "
   ]
  },
  {
   "cell_type": "markdown",
   "metadata": {},
   "source": [
    "# functions in python"
   ]
  },
  {
   "cell_type": "markdown",
   "metadata": {},
   "source": [
    "### key word arguments\n",
    "### default arguments\n",
    "### variable arguments"
   ]
  },
  {
   "cell_type": "code",
   "execution_count": 47,
   "metadata": {},
   "outputs": [
    {
     "name": "stdout",
     "output_type": "stream",
     "text": [
      "ece tejaswini\n"
     ]
    }
   ],
   "source": [
    "def keyword(branch,name):\n",
    "    print(branch,name)\n",
    "keyword(name=\"tejaswini,branch=\"ece\")"
   ]
  },
  {
   "cell_type": "code",
   "execution_count": 54,
   "metadata": {},
   "outputs": [
    {
     "name": "stdout",
     "output_type": "stream",
     "text": [
      "tejaswini ece\n"
     ]
    }
   ],
   "source": [
    "def default(name=\"tejaswini\",branch=\"ece\"):\n",
    "    print(name,branch)\n",
    "default()"
   ]
  },
  {
   "cell_type": "code",
   "execution_count": 57,
   "metadata": {},
   "outputs": [
    {
     "name": "stdout",
     "output_type": "stream",
     "text": [
      "1\n"
     ]
    }
   ],
   "source": [
    "def var_len(*arguments):\n",
    "    print(min(*arguments))\n",
    "var_len(1,2,3,4,45)    "
   ]
  },
  {
   "cell_type": "code",
   "execution_count": 61,
   "metadata": {},
   "outputs": [
    {
     "name": "stdout",
     "output_type": "stream",
     "text": [
      "7\n"
     ]
    }
   ],
   "source": [
    "def var_len(*values):\n",
    "    print(max(*values))\n",
    "var_len(2,4,5,6,7)"
   ]
  },
  {
   "cell_type": "markdown",
   "metadata": {},
   "source": [
    "# tasks"
   ]
  },
  {
   "cell_type": "markdown",
   "metadata": {},
   "source": [
    "### functions to print all numbers divisible by 6 and not a factor of 100 in a given range(lb,ub)"
   ]
  },
  {
   "cell_type": "code",
   "execution_count": 66,
   "metadata": {},
   "outputs": [
    {
     "name": "stdout",
     "output_type": "stream",
     "text": [
      "6\n",
      "12\n",
      "18\n",
      "24\n",
      "30\n",
      "36\n",
      "42\n",
      "48\n",
      "54\n",
      "60\n",
      "66\n",
      "72\n",
      "78\n",
      "84\n",
      "90\n",
      "96\n"
     ]
    }
   ],
   "source": [
    "def divisible(lb,ub):\n",
    "    for i in range(lb,ub+1):\n",
    "        if i%6==0 and 100%i!=0:\n",
    "            print(i)\n",
    "\n",
    "divisible(1,100)        "
   ]
  },
  {
   "cell_type": "markdown",
   "metadata": {},
   "source": [
    "### Function to find the average of cubes of all the even numbers in a given range(lb, ub) inclusive"
   ]
  },
  {
   "cell_type": "code",
   "execution_count": 77,
   "metadata": {
    "scrolled": true
   },
   "outputs": [
    {
     "name": "stdout",
     "output_type": "stream",
     "text": [
      "40.0\n"
     ]
    }
   ],
   "source": [
    "def divisible(lb,ub):\n",
    "    c=0\n",
    "    s=0\n",
    "    x=0\n",
    "    for i in range(lb,ub+1):\n",
    "        if i%2==0:\n",
    "            x=x+1\n",
    "            c=c+ i**3\n",
    "            s=s+c\n",
    "        \n",
    "            a=s/x\n",
    "    print(a)\n",
    "divisible(1,5)       \n",
    "\n",
    "                "
   ]
  },
  {
   "cell_type": "markdown",
   "metadata": {},
   "source": [
    "### function to generate list of factors of a given number"
   ]
  },
  {
   "cell_type": "code",
   "execution_count": 93,
   "metadata": {},
   "outputs": [
    {
     "name": "stdout",
     "output_type": "stream",
     "text": [
      "1\n",
      "2\n",
      "3\n",
      "4\n",
      "6\n",
      "12\n"
     ]
    }
   ],
   "source": [
    "def divisible(a):\n",
    "    \n",
    "    for i in range(1,a+1):\n",
    "    \n",
    "        if a%i==0:\n",
    "            \n",
    "            print(i)\n",
    "divisible(12)       \n",
    "        \n",
    "        \n",
    "        "
   ]
  },
  {
   "cell_type": "markdown",
   "metadata": {},
   "source": [
    "### function to calculate the factorial of a given number "
   ]
  },
  {
   "cell_type": "code",
   "execution_count": 100,
   "metadata": {},
   "outputs": [
    {
     "name": "stdout",
     "output_type": "stream",
     "text": [
      "720\n"
     ]
    }
   ],
   "source": [
    "def fact(n):\n",
    "    c=1\n",
    "    for i in range(1,n+1):\n",
    "            c=c*i\n",
    "    print(c)\n",
    "    \n",
    "fact(6)        "
   ]
  },
  {
   "cell_type": "markdown",
   "metadata": {},
   "source": [
    "## advanced programming"
   ]
  },
  {
   "cell_type": "markdown",
   "metadata": {},
   "source": [
    "### calculate the average of all factorials of a given number"
   ]
  },
  {
   "cell_type": "code",
   "execution_count": 104,
   "metadata": {},
   "outputs": [
    {
     "name": "stdout",
     "output_type": "stream",
     "text": [
      "8.25\n"
     ]
    }
   ],
   "source": [
    "def fact(lb,ub):\n",
    "    c=1\n",
    "    s=0\n",
    "    a=0\n",
    "    for i in range(lb,ub+1):\n",
    "        c=c*i\n",
    "        a=a+1\n",
    "        s=s+c\n",
    "    print(s/a) \n",
    "fact(1,4)    \n",
    "        \n",
    "        "
   ]
  },
  {
   "cell_type": "markdown",
   "metadata": {},
   "source": [
    "### function to generate n odd armstrong numbers"
   ]
  },
  {
   "cell_type": "code",
   "execution_count": null,
   "metadata": {},
   "outputs": [],
   "source": [
    "def armstrong(n):\n",
    "    for i in range(1,n+1):\n",
    "        if n=n%10\n",
    "        "
   ]
  }
 ],
 "metadata": {
  "kernelspec": {
   "display_name": "Python 3",
   "language": "python",
   "name": "python3"
  },
  "language_info": {
   "codemirror_mode": {
    "name": "ipython",
    "version": 3
   },
   "file_extension": ".py",
   "mimetype": "text/x-python",
   "name": "python",
   "nbconvert_exporter": "python",
   "pygments_lexer": "ipython3",
   "version": "3.7.3"
  }
 },
 "nbformat": 4,
 "nbformat_minor": 2
}
