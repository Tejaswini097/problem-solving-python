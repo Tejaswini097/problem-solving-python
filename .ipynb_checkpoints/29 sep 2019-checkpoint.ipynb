{
 "cells": [
  {
   "cell_type": "markdown",
   "metadata": {},
   "source": [
    "# File Handling\n",
    "- open \n",
    "- read \n",
    "- write\n",
    "- append\n",
    "- close"
   ]
  },
  {
   "cell_type": "code",
   "execution_count": 8,
   "metadata": {},
   "outputs": [
    {
     "name": "stdout",
     "output_type": "stream",
     "text": [
      "sri padmavathi mahila university or viswavidyalayam \n",
      "womens university\n",
      "tirupati\n"
     ]
    }
   ],
   "source": [
    "f=open(\"sampledata.txt\",\"r\")\n",
    "d=f.read()\n",
    "print(d)\n",
    "f.close()"
   ]
  },
  {
   "cell_type": "code",
   "execution_count": 10,
   "metadata": {},
   "outputs": [
    {
     "name": "stdout",
     "output_type": "stream",
     "text": [
      "sri padmavathi mahila university or viswavidyalayam \n",
      "womens university\n",
      "tirupati\n"
     ]
    }
   ],
   "source": [
    "with open(\"sampledata.txt\",\"r\") as f:\n",
    "    data=f.read()\n",
    "    print(data)"
   ]
  },
  {
   "cell_type": "code",
   "execution_count": 19,
   "metadata": {},
   "outputs": [
    {
     "name": "stdout",
     "output_type": "stream",
     "text": [
      "sri padmavathi mahila university or viswavidyalayam \n",
      "womens university\n",
      "tirupati\n"
     ]
    }
   ],
   "source": [
    "def file(filename):\n",
    "    f=open(filename,\"r\")\n",
    "    d=f.read()\n",
    "    print(d)\n",
    "    f.close()\n",
    "filename=\"sampledata.txt\"\n",
    "file(filename)\n",
    "    \n",
    "    "
   ]
  },
  {
   "cell_type": "code",
   "execution_count": 24,
   "metadata": {},
   "outputs": [],
   "source": [
    "def file(filename):\n",
    "    f=open(filename,\"r\")\n",
    "    d=f.read()\n",
    "    \n",
    "    f.close()\n",
    "    return data"
   ]
  },
  {
   "cell_type": "code",
   "execution_count": 30,
   "metadata": {},
   "outputs": [
    {
     "name": "stdout",
     "output_type": "stream",
     "text": [
      "SRI PADMAVATHI MAHILA UNIVERSITY OR VISWAVIDYALAYAM \n",
      "WOMENS UNIVERSITY\n",
      "TIRUPATI\n"
     ]
    }
   ],
   "source": [
    "print(file(\"sampledata.txt\").upper())"
   ]
  },
  {
   "cell_type": "code",
   "execution_count": 43,
   "metadata": {},
   "outputs": [
    {
     "ename": "SyntaxError",
     "evalue": "unexpected EOF while parsing (<ipython-input-43-1cdf1c0fa020>, line 6)",
     "output_type": "error",
     "traceback": [
      "\u001b[1;36m  File \u001b[1;32m\"<ipython-input-43-1cdf1c0fa020>\"\u001b[1;36m, line \u001b[1;32m6\u001b[0m\n\u001b[1;33m    \u001b[0m\n\u001b[1;37m    ^\u001b[0m\n\u001b[1;31mSyntaxError\u001b[0m\u001b[1;31m:\u001b[0m unexpected EOF while parsing\n"
     ]
    }
   ],
   "source": [
    "with open(\"data.txt\",\"w\") as f:\n",
    "    s=f.write(input())\n",
    "    for i in f:\n",
    "        \n",
    "       \n",
    "        "
   ]
  },
  {
   "cell_type": "code",
   "execution_count": null,
   "metadata": {},
   "outputs": [],
   "source": []
  }
 ],
 "metadata": {
  "kernelspec": {
   "display_name": "Python 3",
   "language": "python",
   "name": "python3"
  },
  "language_info": {
   "codemirror_mode": {
    "name": "ipython",
    "version": 3
   },
   "file_extension": ".py",
   "mimetype": "text/x-python",
   "name": "python",
   "nbconvert_exporter": "python",
   "pygments_lexer": "ipython3",
   "version": "3.7.3"
  }
 },
 "nbformat": 4,
 "nbformat_minor": 2
}
