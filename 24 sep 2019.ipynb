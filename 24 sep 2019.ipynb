{
 "cells": [
  {
   "cell_type": "code",
   "execution_count": 25,
   "metadata": {},
   "outputs": [
    {
     "name": "stdout",
     "output_type": "stream",
     "text": [
      "1 10 1\n",
      "10\n"
     ]
    }
   ],
   "source": [
    "inputstr=input().split()\n",
    "str=[]\n",
    "c=0\n",
    "for data in inputstr:\n",
    "    str.append(int(data))\n",
    "l,r,k=str\n",
    "for i in range(l,r+1):\n",
    "    if i%k==0:\n",
    "        c+=1\n",
    "print(c)    "
   ]
  },
  {
   "cell_type": "code",
   "execution_count": 33,
   "metadata": {},
   "outputs": [
    {
     "ename": "SyntaxError",
     "evalue": "invalid syntax (<ipython-input-33-a66217c07052>, line 3)",
     "output_type": "error",
     "traceback": [
      "\u001b[1;36m  File \u001b[1;32m\"<ipython-input-33-a66217c07052>\"\u001b[1;36m, line \u001b[1;32m3\u001b[0m\n\u001b[1;33m    for g in range(1,prime+1)\u001b[0m\n\u001b[1;37m                             ^\u001b[0m\n\u001b[1;31mSyntaxError\u001b[0m\u001b[1;31m:\u001b[0m invalid syntax\n"
     ]
    }
   ],
   "source": [
    "prime=input()\n",
    "c=0\n",
    "for g in range(1,prime+1)\n",
    "\n",
    "    if prime%g==0:\n",
    "        c+=1\n",
    "        print(c)    \n",
    "    "
   ]
  },
  {
   "cell_type": "code",
   "execution_count": 36,
   "metadata": {},
   "outputs": [
    {
     "name": "stdout",
     "output_type": "stream",
     "text": [
      "EFE\n",
      "YES\n"
     ]
    }
   ],
   "source": [
    "my_string=input(\"\")\n",
    "if(my_string==my_string[::-1]):\n",
    "    print(\"YES\")\n",
    "else:\n",
    "    print(\"NO\")"
   ]
  },
  {
   "cell_type": "code",
   "execution_count": 17,
   "metadata": {},
   "outputs": [
    {
     "name": "stdout",
     "output_type": "stream",
     "text": [
      "13\n",
      "2 3 5 7 11 13 "
     ]
    }
   ],
   "source": [
    "def isprime(num):\n",
    "    if num==2:\n",
    "        return True\n",
    "    else:\n",
    "        for i in range(2,num):\n",
    "            if num%i==0:\n",
    "                return False\n",
    "    return True \n",
    "n=int(input())\n",
    "for j in range(2,n+1):\n",
    "    if isprime(j):\n",
    "        print(j,end=\" \")\n",
    "    "
   ]
  },
  {
   "cell_type": "code",
   "execution_count": null,
   "metadata": {},
   "outputs": [],
   "source": [
    "h=int(input())\n"
   ]
  },
  {
   "cell_type": "code",
   "execution_count": null,
   "metadata": {},
   "outputs": [],
   "source": []
  }
 ],
 "metadata": {
  "kernelspec": {
   "display_name": "Python 3",
   "language": "python",
   "name": "python3"
  }
 },
 "nbformat": 4,
 "nbformat_minor": 2
}
