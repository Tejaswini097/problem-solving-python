{
 "cells": [
  {
   "cell_type": "markdown",
   "metadata": {},
   "source": [
    "# File Handling\n",
    "- open \n",
    "- read \n",
    "- write\n",
    "- append\n",
    "- close"
   ]
  },
  {
   "cell_type": "code",
   "execution_count": 8,
   "metadata": {},
   "outputs": [
    {
     "name": "stdout",
     "output_type": "stream",
     "text": [
      "sri padmavathi mahila university or viswavidyalayam \n",
      "womens university\n",
      "tirupati\n"
     ]
    }
   ],
   "source": [
    "f=open(\"sampledata.txt\",\"r\")\n",
    "d=f.read()\n",
    "print(d)\n",
    "f.close()"
   ]
  },
  {
   "cell_type": "code",
   "execution_count": 10,
   "metadata": {},
   "outputs": [
    {
     "name": "stdout",
     "output_type": "stream",
     "text": [
      "sri padmavathi mahila university or viswavidyalayam \n",
      "womens university\n",
      "tirupati\n"
     ]
    }
   ],
   "source": [
    "with open(\"sampledata.txt\",\"r\") as f:\n",
    "    data=f.read()\n",
    "    print(data)"
   ]
  },
  {
   "cell_type": "code",
   "execution_count": 19,
   "metadata": {},
   "outputs": [
    {
     "name": "stdout",
     "output_type": "stream",
     "text": [
      "sri padmavathi mahila university or viswavidyalayam \n",
      "womens university\n",
      "tirupati\n"
     ]
    }
   ],
   "source": [
    "def file(filename):\n",
    "    f=open(filename,\"r\")\n",
    "    d=f.read()\n",
    "    print(d)\n",
    "    f.close()\n",
    "filename=\"sampledata.txt\"\n",
    "file(filename)\n",
    "    \n",
    "    "
   ]
  },
  {
   "cell_type": "code",
   "execution_count": 24,
   "metadata": {},
   "outputs": [],
   "source": [
    "def file(filename):\n",
    "    f=open(filename,\"r\")\n",
    "    d=f.read()\n",
    "    \n",
    "    f.close()\n",
    "    return data"
   ]
  },
  {
   "cell_type": "code",
   "execution_count": 30,
   "metadata": {},
   "outputs": [
    {
     "name": "stdout",
     "output_type": "stream",
     "text": [
      "SRI PADMAVATHI MAHILA UNIVERSITY OR VISWAVIDYALAYAM \n",
      "WOMENS UNIVERSITY\n",
      "TIRUPATI\n"
     ]
    }
   ],
   "source": [
    "print(file(\"sampledata.txt\").upper())"
   ]
  },
  {
   "cell_type": "code",
   "execution_count": 91,
   "metadata": {},
   "outputs": [
    {
     "name": "stdout",
     "output_type": "stream",
     "text": [
      "2\n",
      "hii\n",
      "teju\n"
     ]
    }
   ],
   "source": [
    "n=int(input())\n",
    "for i in range(n):\n",
    "    with open(\"data.txt\",\"a\") as f:\n",
    "        f.write(input()+\"\\n\")\n",
    "      \n",
    "        \n",
    "       \n",
    "        "
   ]
  },
  {
   "cell_type": "code",
   "execution_count": 94,
   "metadata": {},
   "outputs": [
    {
     "name": "stdout",
     "output_type": "stream",
     "text": [
      "4\n"
     ]
    }
   ],
   "source": [
    "c=0\n",
    "with open(\"data.txt\") as f:\n",
    "    data=f.readlines()\n",
    "    for i in data:\n",
    "        c=c+1\n",
    "    print(c)\n",
    "    "
   ]
  },
  {
   "cell_type": "code",
   "execution_count": 95,
   "metadata": {},
   "outputs": [
    {
     "name": "stdout",
     "output_type": "stream",
     "text": [
      "hii teju\n",
      "\n",
      "how are you\n",
      "\n",
      "hii\n",
      "\n",
      "teju\n",
      "\n"
     ]
    }
   ],
   "source": [
    "with open(\"data.txt\") as f:\n",
    "    data =f.readlines()\n",
    "    for i in data:\n",
    "        print(i)"
   ]
  },
  {
   "cell_type": "code",
   "execution_count": 6,
   "metadata": {},
   "outputs": [
    {
     "name": "stdout",
     "output_type": "stream",
     "text": [
      "ii t\n"
     ]
    }
   ],
   "source": [
    "with open(\"data.txt\") as f:\n",
    "    data=f.read()\n",
    "    f.seek(1)\n",
    "    print(f.read(4))"
   ]
  },
  {
   "cell_type": "code",
   "execution_count": null,
   "metadata": {},
   "outputs": [],
   "source": []
  },
  {
   "cell_type": "code",
   "execution_count": 5,
   "metadata": {},
   "outputs": [
    {
     "ename": "NameError",
     "evalue": "name 'file' is not defined",
     "output_type": "error",
     "traceback": [
      "\u001b[1;31m---------------------------------------------------------------------------\u001b[0m",
      "\u001b[1;31mNameError\u001b[0m                                 Traceback (most recent call last)",
      "\u001b[1;32m<ipython-input-5-0a42a0994eb6>\u001b[0m in \u001b[0;36m<module>\u001b[1;34m\u001b[0m\n\u001b[0;32m      9\u001b[0m             \u001b[0mprint\u001b[0m\u001b[1;33m(\u001b[0m\u001b[0mcontact\u001b[0m\u001b[1;33m)\u001b[0m\u001b[1;33m\u001b[0m\u001b[1;33m\u001b[0m\u001b[0m\n\u001b[0;32m     10\u001b[0m             \u001b[1;32mbreak\u001b[0m\u001b[1;33m\u001b[0m\u001b[1;33m\u001b[0m\u001b[0m\n\u001b[1;32m---> 11\u001b[1;33m \u001b[0mreadcontact\u001b[0m\u001b[1;33m(\u001b[0m\u001b[1;34m\"pavani\"\u001b[0m\u001b[1;33m)\u001b[0m\u001b[1;33m\u001b[0m\u001b[1;33m\u001b[0m\u001b[0m\n\u001b[0m",
      "\u001b[1;32m<ipython-input-5-0a42a0994eb6>\u001b[0m in \u001b[0;36mreadcontact\u001b[1;34m(name)\u001b[0m\n\u001b[0;32m      1\u001b[0m \u001b[1;32mdef\u001b[0m \u001b[0mreadcontact\u001b[0m\u001b[1;33m(\u001b[0m\u001b[0mname\u001b[0m\u001b[1;33m)\u001b[0m\u001b[1;33m:\u001b[0m\u001b[1;33m\u001b[0m\u001b[1;33m\u001b[0m\u001b[0m\n\u001b[1;32m----> 2\u001b[1;33m     \u001b[0mfh\u001b[0m\u001b[1;33m=\u001b[0m\u001b[0mopen\u001b[0m\u001b[1;33m(\u001b[0m\u001b[0mfile\u001b[0m\u001b[1;33m)\u001b[0m\u001b[1;33m\u001b[0m\u001b[1;33m\u001b[0m\u001b[0m\n\u001b[0m\u001b[0;32m      3\u001b[0m     \u001b[0mlines\u001b[0m\u001b[1;33m=\u001b[0m\u001b[0mfh\u001b[0m\u001b[1;33m.\u001b[0m\u001b[0mreadlines\u001b[0m\u001b[1;33m(\u001b[0m\u001b[1;33m)\u001b[0m\u001b[1;33m\u001b[0m\u001b[1;33m\u001b[0m\u001b[0m\n\u001b[0;32m      4\u001b[0m     \u001b[1;32mfor\u001b[0m \u001b[0mline\u001b[0m \u001b[1;32min\u001b[0m \u001b[0mlines\u001b[0m\u001b[1;33m:\u001b[0m\u001b[1;33m\u001b[0m\u001b[1;33m\u001b[0m\u001b[0m\n\u001b[0;32m      5\u001b[0m         \u001b[0mwords\u001b[0m\u001b[1;33m=\u001b[0m\u001b[0mline\u001b[0m\u001b[1;33m.\u001b[0m\u001b[0msplit\u001b[0m\u001b[1;33m(\u001b[0m\u001b[1;33m)\u001b[0m\u001b[1;33m\u001b[0m\u001b[1;33m\u001b[0m\u001b[0m\n",
      "\u001b[1;31mNameError\u001b[0m: name 'file' is not defined"
     ]
    }
   ],
   "source": [
    "def readcontact(name):\n",
    "    fh=open(file)\n",
    "    lines=fh.readlines()\n",
    "    for line in lines:\n",
    "        words=line.split()\n",
    "        contact_name=words[0]\n",
    "        contact=words[1]\n",
    "        if name==contact_name:\n",
    "            print(contact)\n",
    "            break\n",
    "readcontact(\"pavani\")            "
   ]
  },
  {
   "cell_type": "code",
   "execution_count": 12,
   "metadata": {},
   "outputs": [],
   "source": [
    "from random import randint\n",
    "with open(\"marks.txt\",\"w\") as mf:\n",
    "    for i in range(1000):\n",
    "        mf.write(str(randint(0,100))+\"\\n\")\n",
    "    \n",
    "   "
   ]
  },
  {
   "cell_type": "code",
   "execution_count": 14,
   "metadata": {},
   "outputs": [],
   "source": [
    "# write a function to calculate highest marks from marks.txt file\n",
    "# average\n",
    "# pass%\n",
    "# fail%\n",
    "# distinction%"
   ]
  },
  {
   "cell_type": "code",
   "execution_count": 90,
   "metadata": {},
   "outputs": [],
   "source": [
    "def studentmarks(file_name):\n",
    "    with open(file_name,\"r\") as f:\n",
    "        fh=f.readlines()\n",
    "        l = list(map(int,fh[:-1]))\n",
    "        h = max(l)\n",
    "        avg=sum(l)/len(l)\n",
    "        print(\"average overall marks:\",avg)\n",
    "        c=0\n",
    "        s=0\n",
    "        d=0\n",
    "        for ele in l:\n",
    "            if ele<35:\n",
    "                c+=1\n",
    "            elif ele>=35:\n",
    "                s+=1\n",
    "            elif ele>=75:\n",
    "                d+=1\n",
    "        print(\"pass%:\",(c/len(l))*100)      \n",
    "        print(\"fail%\",(s/len(l))*100)    \n",
    "        print(\"distinction%\",(d/len(l))*100)"
   ]
  },
  {
   "cell_type": "code",
   "execution_count": 91,
   "metadata": {},
   "outputs": [
    {
     "name": "stdout",
     "output_type": "stream",
     "text": [
      "average overall marks: 50.53953953953954\n",
      "pass%: 32.732732732732735\n",
      "fail% 67.26726726726727\n",
      "distinction% 0.0\n"
     ]
    }
   ],
   "source": [
    "studentmarks('marks.txt')"
   ]
  },
  {
   "cell_type": "code",
   "execution_count": 64,
   "metadata": {},
   "outputs": [
    {
     "data": {
      "text/plain": [
       "['1', '2', '3', '4', '5', '6']"
      ]
     },
     "execution_count": 64,
     "metadata": {},
     "output_type": "execute_result"
    }
   ],
   "source": [
    "list(map(str,[1,2,3,4,5,6]))"
   ]
  },
  {
   "cell_type": "code",
   "execution_count": 43,
   "metadata": {},
   "outputs": [
    {
     "data": {
      "text/plain": [
       "'12\\n'"
      ]
     },
     "execution_count": 43,
     "metadata": {},
     "output_type": "execute_result"
    }
   ],
   "source": [
    "'12\\n'"
   ]
  },
  {
   "cell_type": "code",
   "execution_count": 44,
   "metadata": {},
   "outputs": [
    {
     "data": {
      "text/plain": [
       "'12'"
      ]
     },
     "execution_count": 44,
     "metadata": {},
     "output_type": "execute_result"
    }
   ],
   "source": [
    "'12\\n'[:-1]"
   ]
  },
  {
   "cell_type": "code",
   "execution_count": null,
   "metadata": {},
   "outputs": [],
   "source": [
    "def emailval(email):\n",
    "    patter='[a-z0-9]{1,20}[a-z0-9 -]'"
   ]
  }
 ],
 "metadata": {
  "kernelspec": {
   "display_name": "Python 3",
   "language": "python",
   "name": "python3"
  },
  "language_info": {
   "codemirror_mode": {
    "name": "ipython",
    "version": 3
   },
   "file_extension": ".py",
   "mimetype": "text/x-python",
   "name": "python",
   "nbconvert_exporter": "python",
   "pygments_lexer": "ipython3",
   "version": "3.7.3"
  }
 },
 "nbformat": 4,
 "nbformat_minor": 2
}
